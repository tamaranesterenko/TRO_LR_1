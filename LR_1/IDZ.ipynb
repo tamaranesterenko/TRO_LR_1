{
 "cells": [
  {
   "cell_type": "markdown",
   "id": "579e98d5",
   "metadata": {},
   "source": [
    "### Задание №1"
   ]
  },
  {
   "cell_type": "markdown",
   "id": "3da0c6f1",
   "metadata": {},
   "source": [
    "15-го января планируется взять кредит в банке на некоторый срок (целое число месяцев). Условие его выплаты таковы:\n",
    "\n",
    "− 1-го числа k-ого месяца долг возрастёт на 1% по сравнению с концом предыдущего месяца;\n",
    "− со 2-го по 14-е число k-того месяца необходимо выплатить часть долга;\n",
    "− 15-го числа k-того месяца долг должен быть на одну и ту же сумму меньше долга на 15-е число предыдущего месяца.\n",
    "\n",
    "На сколько месяцев планируется взять кредит, если известно, что общая сумма выплат после полного погашения кредита на 20% больше суммы, взятой в кредит?"
   ]
  },
  {
   "cell_type": "markdown",
   "id": "f952ecb5",
   "metadata": {},
   "source": [
    "### Решение"
   ]
  },
  {
   "cell_type": "markdown",
   "id": "93d8929e",
   "metadata": {},
   "source": [
    "По формуле выплаты кредита S дифференцированными платежами: П = (n+1)/200*r*S, где n = искомое число месяцев, r - величина платежной ставки в процентах."
   ]
  },
  {
   "cell_type": "code",
   "execution_count": 18,
   "id": "d6187292",
   "metadata": {},
   "outputs": [
    {
     "name": "stdout",
     "output_type": "stream",
     "text": [
      "Клиент выплатит кредит за 39.0 месяцев\n"
     ]
    }
   ],
   "source": [
    "S = 1\n",
    "r = 1\n",
    "n = 0.2*S*200/S*r - 1\n",
    "print(f\"Клиент выплатит кредит за {n} месяцев\")"
   ]
  },
  {
   "cell_type": "markdown",
   "id": "3876b1a5",
   "metadata": {},
   "source": [
    "### Задание №2"
   ]
  },
  {
   "cell_type": "markdown",
   "id": "9a5c0f7a",
   "metadata": {},
   "source": [
    "Рабочий удерживает за один конец доску массой 50 кг. С горизонтальной поверхностью доска образует угол 30°. С какой силой удерживает рабочий доску, если эта сила направлена перпендикулярно доске?"
   ]
  },
  {
   "attachments": {
    "image.png": {
     "image/png": "[encoded data removed]"
    }
   },
   "cell_type": "markdown",
   "id": "e957b35a",
   "metadata": {},
   "source": [
    "# ![image.png](attachment:image.png)"
   ]
  },
  {
   "cell_type": "markdown",
   "id": "02899eb6",
   "metadata": {},
   "source": [
    "### Решение"
   ]
  },
  {
   "cell_type": "markdown",
   "id": "49037a0e",
   "metadata": {},
   "source": [
    "На доску действуют три силы: сила тяжести mg, сила F и сила реакции N в точке O (про которую забывают все школьники). Чтобы найти искомую силу F, запишем правило моментов относительно точки О. В таком случае плечо силы реакции N равно нулю, а значит и момент этой силы равен нулю."
   ]
  },
  {
   "cell_type": "code",
   "execution_count": 29,
   "id": "be000f95",
   "metadata": {},
   "outputs": [
    {
     "name": "stdout",
     "output_type": "stream",
     "text": [
      "Численное значение искомой силы F равно: 39H\n"
     ]
    }
   ],
   "source": [
    "import math\n",
    "m = 50\n",
    "a = 30\n",
    "g = 10\n",
    "F = (m * g) * math.cos(a) / 2 \n",
    "print(f\"Численное значение искомой силы F равно: {round(F)}H\")"
   ]
  },
  {
   "cell_type": "markdown",
   "id": "366753db",
   "metadata": {},
   "source": [
    "### Задание №3"
   ]
  },
  {
   "cell_type": "markdown",
   "id": "2297f3de",
   "metadata": {},
   "source": [
    "Определите время жизни  нестабильной частицы, движущейся со скоростью u=0,85c, которая пролетела от места своего рождения до точки распада расстояние l=650 м."
   ]
  },
  {
   "cell_type": "markdown",
   "id": "26bebd45",
   "metadata": {},
   "source": [
    "### Решение"
   ]
  },
  {
   "cell_type": "code",
   "execution_count": 33,
   "id": "ff6684a2",
   "metadata": {},
   "outputs": [],
   "source": [
    "#Дано:\n",
    "u = 0.85\n",
    "l = 650\n",
    "c = 3 * 10**-6 #значение скорости света в вакууме\n",
    "# t = ?"
   ]
  },
  {
   "cell_type": "markdown",
   "id": "1cb43a87",
   "metadata": {},
   "source": [
    "Задача связана с эффектом релятивистского замедления времени. Тогда для решения нам нужно воспользоваться соответствующей формулой:"
   ]
  },
  {
   "cell_type": "markdown",
   "id": "f3f124a6",
   "metadata": {},
   "source": [
    "\\begin{equation}\n",
    "    \\bigtriangleup{t} = \\frac{r}{\\sqrt{1 - \\frac{u^2}{c^2}}}\n",
    "\\end{equation}"
   ]
  },
  {
   "cell_type": "markdown",
   "id": "d571cb42",
   "metadata": {},
   "source": [
    "Поиск времени, за которое тело преодолело соответствующее расстояние. Считая, что движение равномерное, получим:"
   ]
  },
  {
   "cell_type": "markdown",
   "id": "328d1976",
   "metadata": {},
   "source": [
    "\\begin{equation}\n",
    "    l = u\\bigtriangleup{t} \t\\Rightarrow \\bigtriangleup{t} = \\frac{l}{u}\n",
    "\\end{equation}"
   ]
  },
  {
   "cell_type": "markdown",
   "id": "daf977e4",
   "metadata": {},
   "source": [
    "Совместим две формулы и получим искомую величину. "
   ]
  },
  {
   "cell_type": "code",
   "execution_count": 50,
   "id": "2f8847a7",
   "metadata": {},
   "outputs": [
    {
     "name": "stdout",
     "output_type": "stream",
     "text": [
      "Время жизни нестабильной частицы: 216666666.66531715j секунд\n"
     ]
    }
   ],
   "source": [
    "import cmath as m\n",
    "t = (l / u) * (m.sqrt(1 - (u**2/c**2)))\n",
    "print(f\"Время жизни нестабильной частицы: {t} секунд\")"
   ]
  }
 ],
 "metadata": {
  "kernelspec": {
   "display_name": "Python 3 (ipykernel)",
   "language": "python",
   "name": "python3"
  },
  "language_info": {
   "codemirror_mode": {
    "name": "ipython",
    "version": 3
   },
   "file_extension": ".py",
   "mimetype": "text/x-python",
   "name": "python",
   "nbconvert_exporter": "python",
   "pygments_lexer": "ipython3",
   "version": "3.9.7"
  }
 },
 "nbformat": 4,
 "nbformat_minor": 5
}
